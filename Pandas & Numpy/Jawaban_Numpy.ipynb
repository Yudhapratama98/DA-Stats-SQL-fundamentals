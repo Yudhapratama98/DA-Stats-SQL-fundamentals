{
  "cells": [
    {
      "cell_type": "markdown",
      "metadata": {
        "id": "Amc6gPv3rf5A"
      },
      "source": [
        "# **Modul 2: Data Analysis**\n",
        "# Exercise Numpy"
      ]
    },
    {
      "cell_type": "code",
      "execution_count": null,
      "metadata": {
        "id": "pdxFmefcrf5C"
      },
      "outputs": [],
      "source": [
        "# import library\n",
        "import numpy as np\n",
        "import pandas as pd"
      ]
    },
    {
      "cell_type": "code",
      "source": [
        "print(np.__version__)\n",
        "print(pd.__version__)"
      ],
      "metadata": {
        "colab": {
          "base_uri": "https://localhost:8080/"
        },
        "id": "4hfhymTptbdC",
        "outputId": "5af146a6-88b4-4a6a-cdf4-2ba61b6df470"
      },
      "execution_count": null,
      "outputs": [
        {
          "output_type": "stream",
          "name": "stdout",
          "text": [
            "1.21.6\n",
            "1.3.5\n"
          ]
        }
      ]
    },
    {
      "cell_type": "code",
      "source": [
        "print(np.__version__)\n",
        "print(pd.__version__)"
      ],
      "metadata": {
        "colab": {
          "base_uri": "https://localhost:8080/"
        },
        "id": "gpaB30JJ8f-m",
        "outputId": "0e499239-d635-4507-f480-02d9b95bee29"
      },
      "execution_count": null,
      "outputs": [
        {
          "output_type": "stream",
          "name": "stdout",
          "text": [
            "1.21.6\n",
            "1.3.5\n"
          ]
        }
      ]
    },
    {
      "cell_type": "markdown",
      "source": [
        "## **Soal A**"
      ],
      "metadata": {
        "id": "qrhsft8k8YSs"
      }
    },
    {
      "cell_type": "markdown",
      "source": [
        "## **No.1**\n"
      ],
      "metadata": {
        "id": "CHibB_pO9yk-"
      }
    },
    {
      "cell_type": "code",
      "source": [
        "arr = [[1,2,3],[4,5,6],[7,8,9]]\n",
        "arr_2 = ((10,11,12),(13,14,15),(16,17,8))\n",
        "\n",
        "arr_np = np.array(arr)\n",
        "arr_np_2 = np.array(arr_2)\n",
        "\n",
        "print(arr_np)\n",
        "print(arr_np_2)\n",
        "\n",
        "print(f'arr : {type(arr)}, arr_np : {type(arr_np)}')\n",
        "print(f'arr_2 : {type(arr_2)}, arr_np_2 : {type(arr_np_2)}')"
      ],
      "metadata": {
        "colab": {
          "base_uri": "https://localhost:8080/"
        },
        "id": "0Ii6JDwE8c9t",
        "outputId": "ab9bf21b-276f-409c-beef-4126cda164ea"
      },
      "execution_count": null,
      "outputs": [
        {
          "output_type": "stream",
          "name": "stdout",
          "text": [
            "[[1 2 3]\n",
            " [4 5 6]\n",
            " [7 8 9]]\n",
            "[[10 11 12]\n",
            " [13 14 15]\n",
            " [16 17  8]]\n",
            "arr : <class 'list'>, arr_np : <class 'numpy.ndarray'>\n",
            "arr_2 : <class 'tuple'>, arr_np_2 : <class 'numpy.ndarray'>\n"
          ]
        }
      ]
    },
    {
      "cell_type": "markdown",
      "source": [
        "## **No.2**"
      ],
      "metadata": {
        "id": "Pn55Iya19790"
      }
    },
    {
      "cell_type": "code",
      "source": [
        "np.eye(5) * 5"
      ],
      "metadata": {
        "colab": {
          "base_uri": "https://localhost:8080/"
        },
        "id": "y2q8UZil951X",
        "outputId": "c3f83b6e-ab16-4d3e-a6f1-71815482caff"
      },
      "execution_count": null,
      "outputs": [
        {
          "output_type": "execute_result",
          "data": {
            "text/plain": [
              "array([[5., 0., 0., 0., 0.],\n",
              "       [0., 5., 0., 0., 0.],\n",
              "       [0., 0., 5., 0., 0.],\n",
              "       [0., 0., 0., 5., 0.],\n",
              "       [0., 0., 0., 0., 5.]])"
            ]
          },
          "metadata": {},
          "execution_count": 7
        }
      ]
    },
    {
      "cell_type": "markdown",
      "source": [
        "## **No.3**"
      ],
      "metadata": {
        "id": "bnsme-IH-A_u"
      }
    },
    {
      "cell_type": "code",
      "source": [
        "np.random.seed(32)\n",
        "\n",
        "np.random.randint(1,11,20).reshape(5,4)"
      ],
      "metadata": {
        "colab": {
          "base_uri": "https://localhost:8080/"
        },
        "id": "-PnV8GX--WpW",
        "outputId": "57418331-4616-46c8-ee1a-b5da878469c4"
      },
      "execution_count": null,
      "outputs": [
        {
          "output_type": "execute_result",
          "data": {
            "text/plain": [
              "array([[ 8,  6,  7,  9],\n",
              "       [ 4,  8, 10,  4],\n",
              "       [ 6, 10,  5,  2],\n",
              "       [ 4,  2,  3,  4],\n",
              "       [ 9,  3,  5,  3]])"
            ]
          },
          "metadata": {},
          "execution_count": 8
        }
      ]
    },
    {
      "cell_type": "markdown",
      "source": [
        "## **No.4**"
      ],
      "metadata": {
        "id": "bAEbw6gE_EsO"
      }
    },
    {
      "cell_type": "code",
      "source": [
        "np.random.seed(101)\n",
        "arr = np.random.randint(1,10,20)\n",
        "arr"
      ],
      "metadata": {
        "colab": {
          "base_uri": "https://localhost:8080/"
        },
        "id": "5njrjQqw_Hfv",
        "outputId": "ab578dcf-8dfb-4e74-c123-582a503da07c"
      },
      "execution_count": null,
      "outputs": [
        {
          "output_type": "execute_result",
          "data": {
            "text/plain": [
              "array([2, 7, 8, 9, 5, 9, 6, 1, 6, 9, 2, 4, 9, 4, 4, 3, 9, 4, 8, 1])"
            ]
          },
          "metadata": {},
          "execution_count": 9
        }
      ]
    },
    {
      "cell_type": "code",
      "source": [
        "print(f'Mean : {arr.mean()}')\n",
        "print(f'Median : {np.median(arr)}')\n",
        "print(f'Max : {arr.max()}')\n",
        "print(f'Min : {arr.min()}')\n",
        "print(f'Max Index : {arr.argmax()}')\n",
        "print(f'Min Index: {arr.argmin()}')\n",
        "print(f'Shape: {arr.shape}')"
      ],
      "metadata": {
        "colab": {
          "base_uri": "https://localhost:8080/"
        },
        "id": "fyg63v_4_WcM",
        "outputId": "4a9e793f-2ee0-4f4b-e5a1-d4f135652984"
      },
      "execution_count": null,
      "outputs": [
        {
          "output_type": "stream",
          "name": "stdout",
          "text": [
            "Mean : 5.5\n",
            "Median : 5.5\n",
            "Max : 9\n",
            "Min : 1\n",
            "Max Index : 3\n",
            "Min Index: 7\n",
            "Shape: (20,)\n"
          ]
        }
      ]
    },
    {
      "cell_type": "markdown",
      "source": [
        "## **No.5**"
      ],
      "metadata": {
        "id": "BkTVJmC9BEY2"
      }
    },
    {
      "cell_type": "code",
      "source": [
        "x = np.arange(1,21).reshape(5,4)\n",
        "x"
      ],
      "metadata": {
        "colab": {
          "base_uri": "https://localhost:8080/"
        },
        "id": "f-_6dOe0BGOl",
        "outputId": "2a9756bd-ad8c-47e1-f75e-44d56978de8a"
      },
      "execution_count": null,
      "outputs": [
        {
          "output_type": "execute_result",
          "data": {
            "text/plain": [
              "array([[ 1,  2,  3,  4],\n",
              "       [ 5,  6,  7,  8],\n",
              "       [ 9, 10, 11, 12],\n",
              "       [13, 14, 15, 16],\n",
              "       [17, 18, 19, 20]])"
            ]
          },
          "metadata": {},
          "execution_count": 11
        }
      ]
    },
    {
      "cell_type": "code",
      "source": [
        "y = np.arange(4)\n",
        "y"
      ],
      "metadata": {
        "colab": {
          "base_uri": "https://localhost:8080/"
        },
        "id": "q0yBZuasBJkF",
        "outputId": "edc386cc-1f3d-48a6-8aa8-b5a3720b1030"
      },
      "execution_count": null,
      "outputs": [
        {
          "output_type": "execute_result",
          "data": {
            "text/plain": [
              "array([0, 1, 2, 3])"
            ]
          },
          "metadata": {},
          "execution_count": 13
        }
      ]
    },
    {
      "cell_type": "code",
      "source": [
        "x+y"
      ],
      "metadata": {
        "colab": {
          "base_uri": "https://localhost:8080/"
        },
        "id": "t5rdzq-4BL5f",
        "outputId": "52c2fc98-50cf-4331-d70d-0c1a947c1641"
      },
      "execution_count": null,
      "outputs": [
        {
          "output_type": "execute_result",
          "data": {
            "text/plain": [
              "array([[ 1,  3,  5,  7],\n",
              "       [ 5,  7,  9, 11],\n",
              "       [ 9, 11, 13, 15],\n",
              "       [13, 15, 17, 19],\n",
              "       [17, 19, 21, 23]])"
            ]
          },
          "metadata": {},
          "execution_count": 14
        }
      ]
    },
    {
      "cell_type": "markdown",
      "source": [
        "## Soal B"
      ],
      "metadata": {
        "id": "OjYNvGJXBoM7"
      }
    },
    {
      "cell_type": "markdown",
      "metadata": {
        "id": "1jsx_jmUrf5F"
      },
      "source": [
        "## **No.6**"
      ]
    },
    {
      "cell_type": "markdown",
      "source": [
        "1. https://numpy.org/doc/stable/reference/random/generated/numpy.random.seed.html\n",
        "1. https://numpy.org/doc/stable/reference/random/generated/numpy.random.randint.html"
      ],
      "metadata": {
        "id": "tEp6Ve9WyOyn"
      }
    },
    {
      "cell_type": "code",
      "execution_count": null,
      "metadata": {
        "id": "8awzg0-Mrf5H",
        "outputId": "53dde461-a7ab-4737-d936-74470a6b3b65",
        "colab": {
          "base_uri": "https://localhost:8080/"
        }
      },
      "outputs": [
        {
          "output_type": "execute_result",
          "data": {
            "text/plain": [
              "array([93, 46, 50, 56, 89, 19, 25, 17, 54, 42, 34, 28, 12, 20, 95, 76, 49,\n",
              "       20, 39, 73, 15, 94, 17, 91, 12, 95, 98,  3, 81, 16, 24, 82, 88, 86,\n",
              "       38, 57])"
            ]
          },
          "metadata": {},
          "execution_count": 3
        }
      ],
      "source": [
        "# Agar saat generate bilangan random tidak berubah\n",
        "np.random.seed(2022)\n",
        "\n",
        "# Buat array 1 dimensi ukuran 36 dengan data random Integer, simpan dalam variabel bernama myArray\n",
        "myArray = np.random.randint(1,100,36)\n",
        "myArray"
      ]
    },
    {
      "cell_type": "markdown",
      "metadata": {
        "id": "YmWNHks9rf5J"
      },
      "source": [
        "## **No.7**"
      ]
    },
    {
      "cell_type": "markdown",
      "source": [
        "1. https://numpy.org/doc/stable/reference/generated/numpy.reshape.html\n",
        "1. https://fgnt.github.io/python_crashkurs_doc/include/numpy.html"
      ],
      "metadata": {
        "id": "-ZwIw4QNz2D_"
      }
    },
    {
      "cell_type": "code",
      "execution_count": null,
      "metadata": {
        "id": "8X4g_zaJrf5K",
        "outputId": "e1a54b32-f252-4c75-e170-4f7a839e7826",
        "colab": {
          "base_uri": "https://localhost:8080/"
        }
      },
      "outputs": [
        {
          "output_type": "stream",
          "name": "stdout",
          "text": [
            "\n",
            " Matrix 1 :\n",
            " [[93 46 50 56 89 19 25 17 54 42 34 28 12 20 95 76 49 20]\n",
            " [39 73 15 94 17 91 12 95 98  3 81 16 24 82 88 86 38 57]]\n",
            "\n",
            " Matrix 2 :\n",
            " [[93 46 50 56]\n",
            " [89 19 25 17]\n",
            " [54 42 34 28]\n",
            " [12 20 95 76]\n",
            " [49 20 39 73]\n",
            " [15 94 17 91]\n",
            " [12 95 98  3]\n",
            " [81 16 24 82]\n",
            " [88 86 38 57]]\n",
            "\n",
            " Array3D 3 :\n",
            " [[[93 46 50]\n",
            "  [56 89 19]\n",
            "  [25 17 54]\n",
            "  [42 34 28]\n",
            "  [12 20 95]\n",
            "  [76 49 20]]\n",
            "\n",
            " [[39 73 15]\n",
            "  [94 17 91]\n",
            "  [12 95 98]\n",
            "  [ 3 81 16]\n",
            "  [24 82 88]\n",
            "  [86 38 57]]]\n"
          ]
        }
      ],
      "source": [
        "# Buat 3 Matrix dengan dimensi berbeda\n",
        "Soal2_1 = myArray.reshape(2,18)\n",
        "Soal2_2 = myArray.reshape(9,4)\n",
        "Soal2_3 = myArray.reshape(2,6,3)\n",
        "\n",
        "print ('\\n Matrix 1 :\\n', Soal2_1)\n",
        "print ('\\n Matrix 2 :\\n', Soal2_2)\n",
        "print ('\\n Array3D 3 :\\n', Soal2_3)"
      ]
    },
    {
      "cell_type": "markdown",
      "metadata": {
        "id": "QS5zyipArf5M"
      },
      "source": [
        "## **No.8**"
      ]
    },
    {
      "cell_type": "markdown",
      "source": [
        "1. https://numpy.org/doc/stable/reference/generated/numpy.ndarray.min.html\n",
        "1. https://numpy.org/doc/stable/reference/generated/numpy.ndarray.max.html\n",
        "1. https://numpy.org/doc/stable/reference/generated/numpy.argmin.html#numpy.argmin\n",
        "1. https://numpy.org/doc/stable/reference/generated/numpy.argmax.html"
      ],
      "metadata": {
        "id": "D7EULTT2_vtZ"
      }
    },
    {
      "cell_type": "code",
      "source": [
        "myArray"
      ],
      "metadata": {
        "colab": {
          "base_uri": "https://localhost:8080/"
        },
        "id": "KPe0_CbPEj6V",
        "outputId": "924ca397-0132-4045-cfcb-887049672e84"
      },
      "execution_count": null,
      "outputs": [
        {
          "output_type": "execute_result",
          "data": {
            "text/plain": [
              "array([93, 46, 50, 56, 89, 19, 25, 17, 54, 42, 34, 28, 12, 20, 95, 76, 49,\n",
              "       20, 39, 73, 15, 94, 17, 91, 12, 95, 98,  3, 81, 16, 24, 82, 88, 86,\n",
              "       38, 57])"
            ]
          },
          "metadata": {},
          "execution_count": 5
        }
      ]
    },
    {
      "cell_type": "code",
      "execution_count": null,
      "metadata": {
        "id": "KEgytlSprf5O",
        "outputId": "1bdf3fdc-1c29-41ce-bfd5-6875e590d745",
        "colab": {
          "base_uri": "https://localhost:8080/"
        }
      },
      "outputs": [
        {
          "output_type": "stream",
          "name": "stdout",
          "text": [
            "3\n",
            "98\n",
            "Nilai minimun : 3\n",
            "Nilai maximum : 98\n",
            "Nilai Minimum (3) berada pada Index : 27\n",
            "Nilai Maximum (98) berada pada Index : 26\n"
          ]
        }
      ],
      "source": [
        "print(np.amin(myArray))\n",
        "print(np.amax(myArray))\n",
        "\n",
        "# Nilai Minimum dan Maksimum\n",
        "Soal3_Min = myArray.min()\n",
        "Soal3_Max = myArray.max()\n",
        "\n",
        "# Index dari Nilai Minimum dan Maksimum\n",
        "Soal3_ArgMin = myArray.argmin()\n",
        "Soal3_ArgMax = myArray.argmax()\n",
        "\n",
        "print (f'Nilai minimun : {Soal3_Min}')\n",
        "print (f'Nilai maximum : {Soal3_Max}')\n",
        "print (f'Nilai Minimum ({Soal3_Min}) berada pada Index : {Soal3_ArgMin}')\n",
        "print (f'Nilai Maximum ({Soal3_Max}) berada pada Index : {Soal3_ArgMax}')"
      ]
    },
    {
      "cell_type": "code",
      "source": [
        "print(myArray.max())\n",
        "print(np.where(myArray == myArray.max()))\n",
        "\n",
        "print(myArray.min())\n",
        "print(np.where(myArray == myArray.min()))\n"
      ],
      "metadata": {
        "colab": {
          "base_uri": "https://localhost:8080/"
        },
        "id": "7lT80xlfHrIX",
        "outputId": "59679ccf-2677-47db-ba66-1d7912b56ef7"
      },
      "execution_count": null,
      "outputs": [
        {
          "output_type": "stream",
          "name": "stdout",
          "text": [
            "98\n",
            "(array([26]),)\n",
            "3\n",
            "(array([27]),)\n"
          ]
        }
      ]
    },
    {
      "cell_type": "markdown",
      "metadata": {
        "id": "otoXmiY-rf5Q"
      },
      "source": [
        "## **No.9**"
      ]
    },
    {
      "cell_type": "code",
      "execution_count": null,
      "metadata": {
        "id": "8k-qOSNRrf5S",
        "outputId": "37ed468e-c18d-4c2d-f301-2fa869c45792",
        "colab": {
          "base_uri": "https://localhost:8080/"
        }
      },
      "outputs": [
        {
          "output_type": "execute_result",
          "data": {
            "text/plain": [
              "array([93, 46, 50, 56, 89, 19, 25, 17, 54, 42, 34, 28, 12, 20, 95, 76, 49,\n",
              "       20, 39, 73, 15, 94, 17, 91, 12, 95, 98,  3, 81, 16, 24, 82, 88, 86,\n",
              "       38, 57])"
            ]
          },
          "metadata": {},
          "execution_count": 8
        }
      ],
      "source": [
        "myArray"
      ]
    },
    {
      "cell_type": "code",
      "execution_count": null,
      "metadata": {
        "id": "IDHwATetrf5U",
        "outputId": "4fc7bd67-dd7e-466a-d78d-4dc6a313ccc0",
        "colab": {
          "base_uri": "https://localhost:8080/"
        }
      },
      "outputs": [
        {
          "output_type": "execute_result",
          "data": {
            "text/plain": [
              "array([56, 19, 24, 12, 76, 54, 12, 95, 17])"
            ]
          },
          "metadata": {},
          "execution_count": 9
        }
      ],
      "source": [
        "# Fancy Indexing, dengan double bracket\n",
        "Soal4 = myArray[[3, 5, 30, 12, 15, 8, 24, 14, 22]]\n",
        "Soal4"
      ]
    },
    {
      "cell_type": "code",
      "execution_count": null,
      "metadata": {
        "id": "qpRoQ6G4rf5W",
        "outputId": "deedacbd-b117-48d9-9606-fa42faac38ac",
        "colab": {
          "base_uri": "https://localhost:8080/"
        }
      },
      "outputs": [
        {
          "output_type": "execute_result",
          "data": {
            "text/plain": [
              "array([[56, 19, 24],\n",
              "       [12, 76, 54],\n",
              "       [12, 95, 17]])"
            ]
          },
          "metadata": {},
          "execution_count": 10
        }
      ],
      "source": [
        "# reshape\n",
        "Soal_4 = Soal4.reshape(3,3)\n",
        "Soal_4"
      ]
    },
    {
      "cell_type": "code",
      "source": [
        "new_Array = myArray[np.array([3, 5, 30, 12, 15, 8, 24, 14, 22])].reshape(3,3)\n",
        "new_Array"
      ],
      "metadata": {
        "colab": {
          "base_uri": "https://localhost:8080/"
        },
        "id": "OQaTtxCbITKl",
        "outputId": "b81974e1-ea12-42e8-f60c-401e7069f869"
      },
      "execution_count": null,
      "outputs": [
        {
          "output_type": "execute_result",
          "data": {
            "text/plain": [
              "array([[56, 19, 24],\n",
              "       [12, 76, 54],\n",
              "       [12, 95, 17]])"
            ]
          },
          "metadata": {},
          "execution_count": 11
        }
      ]
    },
    {
      "cell_type": "code",
      "execution_count": null,
      "metadata": {
        "id": "aKqOUBLUrf5X",
        "outputId": "cfc86a10-c3e6-4c9a-e8aa-f9e54aaf940c",
        "colab": {
          "base_uri": "https://localhost:8080/"
        }
      },
      "outputs": [
        {
          "output_type": "execute_result",
          "data": {
            "text/plain": [
              "array([56, 19, 24, 12, 76, 54, 12, 95, 17])"
            ]
          },
          "metadata": {},
          "execution_count": 12
        }
      ],
      "source": [
        "Soal4"
      ]
    },
    {
      "cell_type": "markdown",
      "metadata": {
        "id": "QlLq55fcrf5Y"
      },
      "source": [
        "## **No.10**"
      ]
    },
    {
      "cell_type": "code",
      "source": [
        "myArray"
      ],
      "metadata": {
        "colab": {
          "base_uri": "https://localhost:8080/"
        },
        "id": "egBGC8GHdUW9",
        "outputId": "a030659f-ecba-477e-83e1-e24461f7dd8a"
      },
      "execution_count": null,
      "outputs": [
        {
          "output_type": "execute_result",
          "data": {
            "text/plain": [
              "array([93, 46, 50, 56, 89, 19, 25, 17, 54, 42, 34, 28, 12, 20, 95, 76, 49,\n",
              "       20, 39, 73, 15, 94, 17, 91, 12, 95, 98,  3, 81, 16, 24, 82, 88, 86,\n",
              "       38, 57])"
            ]
          },
          "metadata": {},
          "execution_count": 13
        }
      ]
    },
    {
      "cell_type": "code",
      "source": [
        "Soal_4 > 50\n",
        "bool_arr = Soal_4 > 50\n",
        "bool_arr\n",
        "Soal_4[bool_arr]"
      ],
      "metadata": {
        "colab": {
          "base_uri": "https://localhost:8080/"
        },
        "id": "jUP74BetdWzG",
        "outputId": "f16213b5-551f-4ba5-eacc-a6351d21386d"
      },
      "execution_count": null,
      "outputs": [
        {
          "output_type": "execute_result",
          "data": {
            "text/plain": [
              "array([56, 76, 54, 95])"
            ]
          },
          "metadata": {},
          "execution_count": 14
        }
      ]
    },
    {
      "cell_type": "code",
      "execution_count": null,
      "metadata": {
        "id": "2uhezuwzrf5Z",
        "outputId": "24f4c9f4-51ce-48b9-b73d-c8195ba307b6",
        "colab": {
          "base_uri": "https://localhost:8080/"
        }
      },
      "outputs": [
        {
          "output_type": "execute_result",
          "data": {
            "text/plain": [
              "array([56, 76, 54, 95])"
            ]
          },
          "metadata": {},
          "execution_count": 15
        }
      ],
      "source": [
        "# Conditional Statement\n",
        "Soal5 = Soal4.reshape(3,3)[Soal4.reshape(3,3) > 50]\n",
        "Soal5"
      ]
    },
    {
      "cell_type": "code",
      "execution_count": null,
      "metadata": {
        "id": "UV3jEm75rf5Z",
        "outputId": "548fbdd6-0d91-4ac7-d0d2-107d6893d261",
        "colab": {
          "base_uri": "https://localhost:8080/"
        }
      },
      "outputs": [
        {
          "output_type": "execute_result",
          "data": {
            "text/plain": [
              "array([56, 76, 54, 95])"
            ]
          },
          "metadata": {},
          "execution_count": 16
        }
      ],
      "source": [
        "# Conditional Statement\n",
        "Soal5 = Soal4[Soal4 > 50]\n",
        "Soal5"
      ]
    },
    {
      "cell_type": "code",
      "source": [
        "Soal4"
      ],
      "metadata": {
        "colab": {
          "base_uri": "https://localhost:8080/"
        },
        "id": "2ni17tfx1kdF",
        "outputId": "dae1dc5c-b925-437a-d54d-5c76db2817e8"
      },
      "execution_count": null,
      "outputs": [
        {
          "output_type": "execute_result",
          "data": {
            "text/plain": [
              "array([56, 19, 24, 12, 76, 54, 12, 95, 17])"
            ]
          },
          "metadata": {},
          "execution_count": 17
        }
      ]
    },
    {
      "cell_type": "code",
      "execution_count": null,
      "metadata": {
        "id": "wmekOsXjrf5a",
        "outputId": "923b160b-535f-4683-c594-ba25d106f669",
        "colab": {
          "base_uri": "https://localhost:8080/"
        }
      },
      "outputs": [
        {
          "output_type": "execute_result",
          "data": {
            "text/plain": [
              "array([ True, False, False, False,  True,  True, False,  True, False])"
            ]
          },
          "metadata": {},
          "execution_count": 18
        }
      ],
      "source": [
        "Soal4 > 50"
      ]
    },
    {
      "cell_type": "code",
      "execution_count": null,
      "metadata": {
        "id": "eRI0EYyFrf5b",
        "outputId": "f009628c-2bc3-41e7-a67f-ae5ec1cf7bea",
        "colab": {
          "base_uri": "https://localhost:8080/"
        }
      },
      "outputs": [
        {
          "output_type": "execute_result",
          "data": {
            "text/plain": [
              "array([56, 76, 54, 95])"
            ]
          },
          "metadata": {},
          "execution_count": 19
        }
      ],
      "source": [
        "Soal4[[True, False, False, False,  True,  True, False,  True, False]]"
      ]
    },
    {
      "cell_type": "markdown",
      "metadata": {
        "id": "8rZyPReKrf5c"
      },
      "source": [
        "## **No.11**"
      ]
    },
    {
      "cell_type": "markdown",
      "source": [
        "1. https://numpy.org/doc/stable/reference/generated/numpy.linspace.html\n",
        "1. https://numpy.org/doc/stable/reference/generated/numpy.arange.html"
      ],
      "metadata": {
        "id": "bM16FeBPAkNS"
      }
    },
    {
      "cell_type": "code",
      "execution_count": null,
      "metadata": {
        "id": "4JWzFiUQrf5d",
        "outputId": "f5e7058f-c8b8-44b8-fc83-931efbe4c42b",
        "colab": {
          "base_uri": "https://localhost:8080/"
        }
      },
      "outputs": [
        {
          "output_type": "execute_result",
          "data": {
            "text/plain": [
              "array([  0,  25,  50,  75, 100])"
            ]
          },
          "metadata": {},
          "execution_count": 20
        }
      ],
      "source": [
        "# Linspace\n",
        "Soal6 = np.linspace(0,100, num=5, dtype=int)\n",
        "Soal6"
      ]
    },
    {
      "cell_type": "code",
      "source": [
        "Arr6 = np.linspace(0,100,5, dtype=int)\n",
        "Arr6\n"
      ],
      "metadata": {
        "colab": {
          "base_uri": "https://localhost:8080/"
        },
        "id": "QbonCOKrJNRO",
        "outputId": "bd3a6744-056c-4937-c11f-753cc267b0d5"
      },
      "execution_count": null,
      "outputs": [
        {
          "output_type": "execute_result",
          "data": {
            "text/plain": [
              "array([  0,  25,  50,  75, 100])"
            ]
          },
          "metadata": {},
          "execution_count": 21
        }
      ]
    },
    {
      "cell_type": "code",
      "execution_count": null,
      "metadata": {
        "id": "AsvArs3Grf5d",
        "outputId": "9758b9f9-17c9-4171-e69a-dae43dbab4dc",
        "colab": {
          "base_uri": "https://localhost:8080/"
        }
      },
      "outputs": [
        {
          "output_type": "execute_result",
          "data": {
            "text/plain": [
              "array([  0,  25,  50,  75, 100])"
            ]
          },
          "metadata": {},
          "execution_count": 22
        }
      ],
      "source": [
        "# Kalau np.arange outputnya integer\n",
        "np.arange(0,101,25)"
      ]
    },
    {
      "cell_type": "markdown",
      "metadata": {
        "id": "7e8fCi_Qrf5e"
      },
      "source": [
        "## **No.12**"
      ]
    },
    {
      "cell_type": "markdown",
      "source": [
        "1. https://numpy.org/doc/stable/reference/generated/numpy.ones.html\n",
        "1. https://numpy.org/doc/stable/reference/generated/numpy.full.html"
      ],
      "metadata": {
        "id": "EzYKJWP_GoDL"
      }
    },
    {
      "cell_type": "code",
      "source": [
        "# [1, 2, 3, 4, 5, 6, 7, 8, 9]\n",
        "myArray = [1, 1, 1, 1, 1, 1, 1, 1, 1]\n",
        "x = np.array(myArray)\n",
        "N = int(input('N yang diinputkan adalah : '))\n",
        "x.reshape(N, N)\n",
        "slice_of_x = x.reshape(N,N)\n",
        "slice_of_x[:] = 8\n",
        "slice_of_x"
      ],
      "metadata": {
        "colab": {
          "base_uri": "https://localhost:8080/"
        },
        "id": "X8DAnj6Ies-t",
        "outputId": "cc6a6cd9-0858-4c21-c5a8-2b75e47fd92c"
      },
      "execution_count": null,
      "outputs": [
        {
          "name": "stdout",
          "output_type": "stream",
          "text": [
            "N yang diinputkan adalah : 3\n"
          ]
        },
        {
          "output_type": "execute_result",
          "data": {
            "text/plain": [
              "array([[8, 8, 8],\n",
              "       [8, 8, 8],\n",
              "       [8, 8, 8]])"
            ]
          },
          "metadata": {},
          "execution_count": 23
        }
      ]
    },
    {
      "cell_type": "code",
      "execution_count": null,
      "metadata": {
        "id": "u-X5pa0Zrf5e",
        "outputId": "ad8de6ec-291d-4458-ac21-83eb09bf74fe",
        "colab": {
          "base_uri": "https://localhost:8080/"
        }
      },
      "outputs": [
        {
          "output_type": "stream",
          "name": "stdout",
          "text": [
            "Masukkan Nilai N : 3\n",
            "N yang diinputkan adalah 3\n"
          ]
        },
        {
          "output_type": "execute_result",
          "data": {
            "text/plain": [
              "array([[8., 8., 8.],\n",
              "       [8., 8., 8.],\n",
              "       [8., 8., 8.]])"
            ]
          },
          "metadata": {},
          "execution_count": 24
        }
      ],
      "source": [
        "# Buat Array Isi 10\n",
        "N = int(input('Masukkan Nilai N : '))\n",
        "print (f'N yang diinputkan adalah {N}')\n",
        "\n",
        "Soal7 = np.ones((N,N))*8\n",
        "Soal7"
      ]
    },
    {
      "cell_type": "code",
      "execution_count": null,
      "metadata": {
        "id": "xqTZk67Hrf5f",
        "outputId": "da2e59d8-7da4-4582-f94b-c5ec83691203",
        "colab": {
          "base_uri": "https://localhost:8080/"
        }
      },
      "outputs": [
        {
          "output_type": "execute_result",
          "data": {
            "text/plain": [
              "array([[8., 8., 8.],\n",
              "       [8., 8., 8.],\n",
              "       [8., 8., 8.]])"
            ]
          },
          "metadata": {},
          "execution_count": 25
        }
      ],
      "source": [
        "np.full((3,3) , 8, dtype=float)"
      ]
    },
    {
      "cell_type": "code",
      "source": [
        "np.full(shape=(3,3),fill_value=8, dtype=float)"
      ],
      "metadata": {
        "colab": {
          "base_uri": "https://localhost:8080/"
        },
        "id": "DFzVt9xZKHUy",
        "outputId": "25fdd686-9d7d-44e1-be88-2d367ab367e0"
      },
      "execution_count": null,
      "outputs": [
        {
          "output_type": "execute_result",
          "data": {
            "text/plain": [
              "array([[8., 8., 8.],\n",
              "       [8., 8., 8.],\n",
              "       [8., 8., 8.]])"
            ]
          },
          "metadata": {},
          "execution_count": 26
        }
      ]
    },
    {
      "cell_type": "code",
      "execution_count": null,
      "metadata": {
        "id": "c3Ur_9JLrf5f",
        "outputId": "9c6eaaf2-2904-42c9-91be-7cc3272a817d",
        "colab": {
          "base_uri": "https://localhost:8080/"
        }
      },
      "outputs": [
        {
          "output_type": "execute_result",
          "data": {
            "text/plain": [
              "array([[1., 1., 1.]])"
            ]
          },
          "metadata": {},
          "execution_count": 27
        }
      ],
      "source": [
        "np.ones((1,3))"
      ]
    },
    {
      "cell_type": "code",
      "source": [
        "n = int(input())\n",
        "np.full((n,n),8)"
      ],
      "metadata": {
        "colab": {
          "base_uri": "https://localhost:8080/"
        },
        "id": "-IjwLhwDPiM8",
        "outputId": "9a0a70a2-c533-409b-aaf6-3753c554f2a0"
      },
      "execution_count": null,
      "outputs": [
        {
          "name": "stdout",
          "output_type": "stream",
          "text": [
            "3\n"
          ]
        },
        {
          "output_type": "execute_result",
          "data": {
            "text/plain": [
              "array([[8, 8, 8],\n",
              "       [8, 8, 8],\n",
              "       [8, 8, 8]])"
            ]
          },
          "metadata": {},
          "execution_count": 29
        }
      ]
    },
    {
      "cell_type": "code",
      "execution_count": null,
      "metadata": {
        "id": "JVZWMkQ6rf5g",
        "outputId": "67934cb6-bad5-4916-8c7b-799273aac25b",
        "colab": {
          "base_uri": "https://localhost:8080/"
        }
      },
      "outputs": [
        {
          "output_type": "execute_result",
          "data": {
            "text/plain": [
              "array([['Andi', '3', 'Jakarta'],\n",
              "       ['Budi', '7', 'Bandung']], dtype='<U21')"
            ]
          },
          "metadata": {},
          "execution_count": 28
        }
      ],
      "source": [
        "np.array([['Andi',3, 'Jakarta'],['Budi',7,'Bandung']])"
      ]
    },
    {
      "cell_type": "markdown",
      "metadata": {
        "id": "cV7ZLaVErf5g"
      },
      "source": [
        "## **No.13**"
      ]
    },
    {
      "cell_type": "markdown",
      "source": [
        "1. https://numpy.org/doc/stable/reference/generated/numpy.transpose.html\n",
        "1. https://numpy.org/doc/stable/reference/generated/numpy.concatenate.html"
      ],
      "metadata": {
        "id": "DGRpEjU8IDZh"
      }
    },
    {
      "cell_type": "code",
      "source": [
        "np.linspace(100,400,4).reshape(4,1)"
      ],
      "metadata": {
        "colab": {
          "base_uri": "https://localhost:8080/"
        },
        "id": "0MdW-HH2QLHV",
        "outputId": "d8459d41-d690-4714-c77b-9ead7381a656"
      },
      "execution_count": null,
      "outputs": [
        {
          "output_type": "execute_result",
          "data": {
            "text/plain": [
              "array([[100.],\n",
              "       [200.],\n",
              "       [300.],\n",
              "       [400.]])"
            ]
          },
          "metadata": {},
          "execution_count": 39
        }
      ]
    },
    {
      "cell_type": "code",
      "execution_count": null,
      "metadata": {
        "id": "dsJMgvXZrf5h",
        "outputId": "8dc5bc6d-41ce-40e7-ef8c-35144896386a",
        "colab": {
          "base_uri": "https://localhost:8080/"
        }
      },
      "outputs": [
        {
          "output_type": "execute_result",
          "data": {
            "text/plain": [
              "array([[ 1,  2,  3,  4],\n",
              "       [ 5,  6,  7,  8],\n",
              "       [ 9, 10, 11, 12]])"
            ]
          },
          "metadata": {},
          "execution_count": 40
        }
      ],
      "source": [
        "arrayA = np.arange(1,13).reshape(3,4)\n",
        "arrayA"
      ]
    },
    {
      "cell_type": "code",
      "execution_count": null,
      "metadata": {
        "id": "uQlPQvuArf5h",
        "outputId": "9bef4b77-47b2-4ec2-9f0a-f1e49eaeb2fe",
        "colab": {
          "base_uri": "https://localhost:8080/"
        }
      },
      "outputs": [
        {
          "output_type": "execute_result",
          "data": {
            "text/plain": [
              "array([[100],\n",
              "       [200],\n",
              "       [300],\n",
              "       [400]])"
            ]
          },
          "metadata": {},
          "execution_count": 41
        }
      ],
      "source": [
        "arrayB = np.arange(100,401,100).reshape(4,1)\n",
        "arrayB"
      ]
    },
    {
      "cell_type": "code",
      "execution_count": null,
      "metadata": {
        "id": "AD41iEXyrf5i",
        "outputId": "2c0f1f58-c09d-4340-e39b-23493b612d5d",
        "colab": {
          "base_uri": "https://localhost:8080/"
        }
      },
      "outputs": [
        {
          "output_type": "execute_result",
          "data": {
            "text/plain": [
              "array([[100, 200, 300, 400]])"
            ]
          },
          "metadata": {},
          "execution_count": 42
        }
      ],
      "source": [
        "arrayB.T"
      ]
    },
    {
      "cell_type": "code",
      "execution_count": null,
      "metadata": {
        "id": "_FD7k7Ffrf5i",
        "outputId": "3c39f9a5-45db-4fbd-d400-0a9edb285f80",
        "colab": {
          "base_uri": "https://localhost:8080/"
        }
      },
      "outputs": [
        {
          "output_type": "execute_result",
          "data": {
            "text/plain": [
              "array([[  1,   2,   3,   4],\n",
              "       [  5,   6,   7,   8],\n",
              "       [  9,  10,  11,  12],\n",
              "       [100, 200, 300, 400]])"
            ]
          },
          "metadata": {},
          "execution_count": 43
        }
      ],
      "source": [
        "# gabungkan arrayA dan arrayB\n",
        "arrayC = np.concatenate((arrayA, arrayB.T), axis=0)\n",
        "arrayC"
      ]
    },
    {
      "cell_type": "code",
      "source": [
        "Array3 = np.arange(100,401,100)\n",
        "Array3\n",
        "ArrayA = Array3.reshape(4,1)\n",
        "ArrayA\n",
        "Array5 = np.arange(1,13)\n",
        "Array5\n",
        "Array5 = np.arange(1,13)\n",
        "Array5\n",
        "ArrayB = Array5.reshape(3,4)\n",
        "ArrayB\n",
        "np.concatenate((ArrayB,ArrayA.T), axis=0)"
      ],
      "metadata": {
        "colab": {
          "base_uri": "https://localhost:8080/"
        },
        "id": "d_2oKrHaKfjI",
        "outputId": "ded6ab90-5575-49b8-e01f-6e52465699de"
      },
      "execution_count": null,
      "outputs": [
        {
          "output_type": "execute_result",
          "data": {
            "text/plain": [
              "array([[  1,   2,   3,   4],\n",
              "       [  5,   6,   7,   8],\n",
              "       [  9,  10,  11,  12],\n",
              "       [100, 200, 300, 400]])"
            ]
          },
          "metadata": {},
          "execution_count": 44
        }
      ]
    },
    {
      "cell_type": "markdown",
      "metadata": {
        "id": "pLhUPA3Lrf5j"
      },
      "source": [
        "## **No.14**"
      ]
    },
    {
      "cell_type": "markdown",
      "source": [
        "slicing = [start:stop:step]"
      ],
      "metadata": {
        "id": "A6F1vnuzM7op"
      }
    },
    {
      "cell_type": "code",
      "source": [
        "arr = np.array([1, 2, 3, 4, 5, 6, 7])\n",
        "arr[::2] # tidak ada start:tidak ada stop:step nya setiap 2 angka"
      ],
      "metadata": {
        "colab": {
          "base_uri": "https://localhost:8080/"
        },
        "id": "DMwqM9YCKL1t",
        "outputId": "ff479cdb-9543-45a1-b1d2-3935f865f821"
      },
      "execution_count": null,
      "outputs": [
        {
          "output_type": "execute_result",
          "data": {
            "text/plain": [
              "array([1, 3, 5, 7])"
            ]
          },
          "metadata": {},
          "execution_count": 45
        }
      ]
    },
    {
      "cell_type": "code",
      "source": [
        "arr = np.array([1, 2, 3, 4, 5, 6, 7]) # indexing 0 1 2 3 4 5 6\n",
        "arr[1:5:2] # start di index 1:stop di index 5:step nya setiap 2 angka"
      ],
      "metadata": {
        "colab": {
          "base_uri": "https://localhost:8080/"
        },
        "id": "F3Ej-D8IJ3sF",
        "outputId": "8f8ec1ff-d698-466d-9ae4-692a8b3b026c"
      },
      "execution_count": null,
      "outputs": [
        {
          "output_type": "execute_result",
          "data": {
            "text/plain": [
              "array([2, 4])"
            ]
          },
          "metadata": {},
          "execution_count": 46
        }
      ]
    },
    {
      "cell_type": "code",
      "source": [
        "#negative slicing\n",
        "arr = np.array([1, 2, 3, 4, 5, 6, 7]) # -7 -6 -5 -4 -3 -2 -1\n",
        "arr[-3:-1]"
      ],
      "metadata": {
        "colab": {
          "base_uri": "https://localhost:8080/"
        },
        "id": "y99mR-ztJXaf",
        "outputId": "aa6c6c77-3af5-4d04-dfec-e3f36e29aeab"
      },
      "execution_count": null,
      "outputs": [
        {
          "output_type": "execute_result",
          "data": {
            "text/plain": [
              "array([5, 6])"
            ]
          },
          "metadata": {},
          "execution_count": 47
        }
      ]
    },
    {
      "cell_type": "code",
      "source": [
        "arr = np.array([1, 2, 3, 4, 5, 6, 7])\n",
        "arr[4:] # start di index 4:tidak ada stop"
      ],
      "metadata": {
        "colab": {
          "base_uri": "https://localhost:8080/"
        },
        "id": "YsJAuaSXJO-e",
        "outputId": "aa1ccb3d-2031-4c00-c9f3-f274af10bf48"
      },
      "execution_count": null,
      "outputs": [
        {
          "output_type": "execute_result",
          "data": {
            "text/plain": [
              "array([5, 6, 7])"
            ]
          },
          "metadata": {},
          "execution_count": 48
        }
      ]
    },
    {
      "cell_type": "code",
      "source": [
        "arr = np.array([1, 2, 3, 4, 5, 6, 7])\n",
        "arr[1:5] # start di index 1:stop di index 5"
      ],
      "metadata": {
        "colab": {
          "base_uri": "https://localhost:8080/"
        },
        "id": "LVuyiYdhJAUA",
        "outputId": "009e7d34-7e66-4cb4-a9ca-0d77a657fe04"
      },
      "execution_count": null,
      "outputs": [
        {
          "output_type": "execute_result",
          "data": {
            "text/plain": [
              "array([2, 3, 4, 5])"
            ]
          },
          "metadata": {},
          "execution_count": 49
        }
      ]
    },
    {
      "cell_type": "code",
      "source": [
        "arrayC"
      ],
      "metadata": {
        "colab": {
          "base_uri": "https://localhost:8080/"
        },
        "id": "RyjF6KTUKpxa",
        "outputId": "55020369-26c6-49e0-e4aa-74e45925ad90"
      },
      "execution_count": null,
      "outputs": [
        {
          "output_type": "execute_result",
          "data": {
            "text/plain": [
              "array([[  1,   2,   3,   4],\n",
              "       [  5,   6,   7,   8],\n",
              "       [  9,  10,  11,  12],\n",
              "       [100, 200, 300, 400]])"
            ]
          },
          "metadata": {},
          "execution_count": 50
        }
      ]
    },
    {
      "cell_type": "code",
      "execution_count": null,
      "metadata": {
        "id": "6NgCWA78rf5j",
        "outputId": "afb92425-3d3d-44e7-ac43-60a4f472735e",
        "colab": {
          "base_uri": "https://localhost:8080/"
        }
      },
      "outputs": [
        {
          "output_type": "execute_result",
          "data": {
            "text/plain": [
              "array([[ 7,  8],\n",
              "       [11, 12]])"
            ]
          },
          "metadata": {},
          "execution_count": 51
        }
      ],
      "source": [
        "# slicing array-> array[row, column]\n",
        "arrayC[1:3 , 2:]"
      ]
    },
    {
      "cell_type": "code",
      "source": [
        "arr = np.array([[1, 2, 3, 4, 5], [6, 7, 8, 9, 10]])\n",
        "arr[1, 1:4]"
      ],
      "metadata": {
        "colab": {
          "base_uri": "https://localhost:8080/"
        },
        "id": "z0Vt8qkGKt4m",
        "outputId": "024e8863-7137-4a02-cab5-0f2ceccdc775"
      },
      "execution_count": null,
      "outputs": [
        {
          "output_type": "execute_result",
          "data": {
            "text/plain": [
              "array([7, 8, 9])"
            ]
          },
          "metadata": {},
          "execution_count": 52
        }
      ]
    },
    {
      "cell_type": "code",
      "source": [
        "arr[0:, 2]"
      ],
      "metadata": {
        "colab": {
          "base_uri": "https://localhost:8080/"
        },
        "id": "iB8VwOTcLWpu",
        "outputId": "a4ffa9db-47d3-4d0b-d45f-cd48d9b2c56a"
      },
      "execution_count": null,
      "outputs": [
        {
          "output_type": "execute_result",
          "data": {
            "text/plain": [
              "array([3, 8])"
            ]
          },
          "metadata": {},
          "execution_count": 53
        }
      ]
    },
    {
      "cell_type": "code",
      "source": [
        "arrayD = np.take(arrayC, (6,7,10,11))\n",
        "arrayD.shape = (2,2)\n",
        "arrayD\n"
      ],
      "metadata": {
        "colab": {
          "base_uri": "https://localhost:8080/"
        },
        "id": "t36b5p9OSv9j",
        "outputId": "814cbcd4-21f4-4db4-e71c-e5f9cae59560"
      },
      "execution_count": null,
      "outputs": [
        {
          "output_type": "execute_result",
          "data": {
            "text/plain": [
              "array([[ 7,  8],\n",
              "       [11, 12]])"
            ]
          },
          "metadata": {},
          "execution_count": 54
        }
      ]
    },
    {
      "cell_type": "markdown",
      "metadata": {
        "id": "XSHetdFkrf5k"
      },
      "source": [
        "## **No.15**"
      ]
    },
    {
      "cell_type": "code",
      "source": [
        "arrayC"
      ],
      "metadata": {
        "colab": {
          "base_uri": "https://localhost:8080/"
        },
        "id": "ksUeVLu_MUJ1",
        "outputId": "4b6c0bdb-3854-4ac1-9ec1-949dc65b0c21"
      },
      "execution_count": null,
      "outputs": [
        {
          "output_type": "execute_result",
          "data": {
            "text/plain": [
              "array([[  1,   2,   3,   4],\n",
              "       [  5,   6,   7,   8],\n",
              "       [  9,  10,  11,  12],\n",
              "       [100, 200, 300, 400]])"
            ]
          },
          "metadata": {},
          "execution_count": 55
        }
      ]
    },
    {
      "cell_type": "code",
      "source": [
        "print(arrayC[3:,1:2])\n",
        "print(arrayC[3,1:2])"
      ],
      "metadata": {
        "colab": {
          "base_uri": "https://localhost:8080/"
        },
        "id": "peLJMLj7iRmZ",
        "outputId": "a414d602-1fc6-45f0-d844-e2e09a33bbcc"
      },
      "execution_count": null,
      "outputs": [
        {
          "output_type": "stream",
          "name": "stdout",
          "text": [
            "[[200]]\n",
            "[200]\n"
          ]
        }
      ]
    },
    {
      "cell_type": "code",
      "source": [
        "display(arrayC[3:,1:2])\n",
        "display(arrayC[3,1:2])"
      ],
      "metadata": {
        "id": "2DcyWOlFLVhI",
        "outputId": "64c4dae3-c428-48df-ee7d-4ce642c6347b",
        "colab": {
          "base_uri": "https://localhost:8080/",
          "height": 53
        }
      },
      "execution_count": null,
      "outputs": [
        {
          "output_type": "display_data",
          "data": {
            "text/plain": [
              "array([[200]])"
            ]
          },
          "metadata": {}
        },
        {
          "output_type": "display_data",
          "data": {
            "text/plain": [
              "array([200])"
            ]
          },
          "metadata": {}
        }
      ]
    },
    {
      "cell_type": "code",
      "execution_count": null,
      "metadata": {
        "id": "cVZE2FYprf5k",
        "outputId": "24e6283e-fe40-4eea-92d6-3a7af067ece4",
        "colab": {
          "base_uri": "https://localhost:8080/"
        }
      },
      "outputs": [
        {
          "output_type": "execute_result",
          "data": {
            "text/plain": [
              "200"
            ]
          },
          "metadata": {},
          "execution_count": 58
        }
      ],
      "source": [
        "# indexing array => [row,column]\n",
        "arrayC[3, 1]"
      ]
    },
    {
      "cell_type": "code",
      "source": [
        "arrayC[3, 1] / arrayC[3, 0]"
      ],
      "metadata": {
        "colab": {
          "base_uri": "https://localhost:8080/"
        },
        "id": "miY47SQYNfy1",
        "outputId": "563865be-4832-4a28-9073-f828e6f7a11e"
      },
      "execution_count": null,
      "outputs": [
        {
          "output_type": "execute_result",
          "data": {
            "text/plain": [
              "2.0"
            ]
          },
          "metadata": {},
          "execution_count": 59
        }
      ]
    },
    {
      "cell_type": "code",
      "execution_count": null,
      "metadata": {
        "id": "CGXA1tW7rf5l",
        "outputId": "c1688e16-a5e6-4c62-8691-045977c2cb44",
        "colab": {
          "base_uri": "https://localhost:8080/"
        }
      },
      "outputs": [
        {
          "output_type": "execute_result",
          "data": {
            "text/plain": [
              "200"
            ]
          },
          "metadata": {},
          "execution_count": 60
        }
      ],
      "source": [
        "arrayC[3][1]"
      ]
    },
    {
      "cell_type": "code",
      "execution_count": null,
      "metadata": {
        "id": "xSL7mXbFrf5m",
        "outputId": "679c483c-cbd5-47ae-b983-0c41e6d8af20",
        "colab": {
          "base_uri": "https://localhost:8080/"
        }
      },
      "outputs": [
        {
          "output_type": "execute_result",
          "data": {
            "text/plain": [
              "(array([3]), array([1]))"
            ]
          },
          "metadata": {},
          "execution_count": 61
        }
      ],
      "source": [
        "np.where(arrayC==200)"
      ]
    },
    {
      "cell_type": "markdown",
      "metadata": {
        "id": "ZgARwIoBrf5n"
      },
      "source": [
        "## **Test**"
      ]
    },
    {
      "cell_type": "code",
      "execution_count": null,
      "metadata": {
        "id": "g6Xmy2R1rf5o"
      },
      "outputs": [],
      "source": [
        "a = np.arange(1,5).reshape(2,2)\n",
        "b = np.full((2,2), 10)\n"
      ]
    },
    {
      "cell_type": "code",
      "execution_count": null,
      "metadata": {
        "id": "ip9tqvy0rf5o",
        "outputId": "5b268f28-8419-42bf-f17d-dacb6a23fc5e",
        "colab": {
          "base_uri": "https://localhost:8080/"
        }
      },
      "outputs": [
        {
          "output_type": "execute_result",
          "data": {
            "text/plain": [
              "array([[1, 2],\n",
              "       [3, 4]])"
            ]
          },
          "metadata": {},
          "execution_count": 63
        }
      ],
      "source": [
        "a"
      ]
    },
    {
      "cell_type": "code",
      "execution_count": null,
      "metadata": {
        "id": "O5ApPuVTrf5p",
        "outputId": "e8196f8d-80a7-4562-fc88-db53cbb9fda6",
        "colab": {
          "base_uri": "https://localhost:8080/"
        }
      },
      "outputs": [
        {
          "output_type": "execute_result",
          "data": {
            "text/plain": [
              "numpy.ndarray"
            ]
          },
          "metadata": {},
          "execution_count": 64
        }
      ],
      "source": [
        "type(a)"
      ]
    },
    {
      "cell_type": "code",
      "execution_count": null,
      "metadata": {
        "id": "d0n4Jz0vrf5q",
        "outputId": "7f53feb5-2d62-4af4-891e-2971390cae03",
        "colab": {
          "base_uri": "https://localhost:8080/"
        }
      },
      "outputs": [
        {
          "output_type": "execute_result",
          "data": {
            "text/plain": [
              "array([[10, 10],\n",
              "       [10, 10]])"
            ]
          },
          "metadata": {},
          "execution_count": 65
        }
      ],
      "source": [
        "(b)"
      ]
    },
    {
      "cell_type": "code",
      "execution_count": null,
      "metadata": {
        "id": "zUiDTE_jrf5q",
        "outputId": "e9901175-b3a9-409d-da4b-ec08a24a1ddc",
        "colab": {
          "base_uri": "https://localhost:8080/"
        }
      },
      "outputs": [
        {
          "output_type": "stream",
          "name": "stdout",
          "text": [
            "[[11 12]\n",
            " [13 14]]\n",
            "[[11 12]\n",
            " [13 14]]\n"
          ]
        }
      ],
      "source": [
        "print(a+b)\n",
        "print(np.add(a,b))"
      ]
    },
    {
      "cell_type": "code",
      "execution_count": null,
      "metadata": {
        "id": "35JrMT6Zrf5s",
        "outputId": "9a126d58-812e-4fc7-ad83-eb63f8160ff3",
        "colab": {
          "base_uri": "https://localhost:8080/"
        }
      },
      "outputs": [
        {
          "output_type": "stream",
          "name": "stdout",
          "text": [
            "[[-9 -8]\n",
            " [-7 -6]]\n",
            "[[-9 -8]\n",
            " [-7 -6]]\n"
          ]
        }
      ],
      "source": [
        "print(a-b)\n",
        "print(np.subtract(a,b))"
      ]
    },
    {
      "cell_type": "code",
      "execution_count": null,
      "metadata": {
        "id": "t-QQwZZGrf5s",
        "outputId": "3cb87f77-7c12-4d3d-bca1-6a82eb6964d4",
        "colab": {
          "base_uri": "https://localhost:8080/"
        }
      },
      "outputs": [
        {
          "output_type": "stream",
          "name": "stdout",
          "text": [
            "[[10 20]\n",
            " [30 40]]\n",
            "[[10 20]\n",
            " [30 40]]\n"
          ]
        }
      ],
      "source": [
        "print(a*b)\n",
        "print(np.multiply(a,b))"
      ]
    },
    {
      "cell_type": "code",
      "execution_count": null,
      "metadata": {
        "id": "GGFs63TDrf5t",
        "outputId": "fb6ef46f-7593-48f9-a0b0-de98c75693aa",
        "colab": {
          "base_uri": "https://localhost:8080/"
        }
      },
      "outputs": [
        {
          "output_type": "stream",
          "name": "stdout",
          "text": [
            "[[30 30]\n",
            " [70 70]]\n"
          ]
        }
      ],
      "source": [
        "print(np.dot(a,b))"
      ]
    },
    {
      "cell_type": "code",
      "execution_count": null,
      "metadata": {
        "id": "2Gl0winqrf5u"
      },
      "outputs": [],
      "source": []
    },
    {
      "cell_type": "code",
      "execution_count": null,
      "metadata": {
        "id": "ZWiUAGBQrf5u"
      },
      "outputs": [],
      "source": []
    }
  ],
  "metadata": {
    "interpreter": {
      "hash": "37eb40c3388cfde35488e2d005b0d69ca91ddeff8a429754d4da636d3f888e5e"
    },
    "kernelspec": {
      "display_name": "Python 3.7.6 64-bit ('base': conda)",
      "name": "python3"
    },
    "language_info": {
      "codemirror_mode": {
        "name": "ipython",
        "version": 3
      },
      "file_extension": ".py",
      "mimetype": "text/x-python",
      "name": "python",
      "nbconvert_exporter": "python",
      "pygments_lexer": "ipython3",
      "version": "3.7.6"
    },
    "orig_nbformat": 4,
    "colab": {
      "provenance": [],
      "toc_visible": true
    }
  },
  "nbformat": 4,
  "nbformat_minor": 0
}